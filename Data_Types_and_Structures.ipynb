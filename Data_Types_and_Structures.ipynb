{
  "nbformat": 4,
  "nbformat_minor": 0,
  "metadata": {
    "colab": {
      "provenance": []
    },
    "kernelspec": {
      "name": "python3",
      "display_name": "Python 3"
    },
    "language_info": {
      "name": "python"
    }
  },
  "cells": [
    {
      "cell_type": "markdown",
      "source": [
        "1. What are data structures, and why are they important?\n",
        "- Data structures are specialized formats for organizing, processing, and storing data. They are crucial because they determine how efficiently algorithms can run and help manage large datasets by optimizing access and modification operations.\n",
        "\n"
      ],
      "metadata": {
        "id": "Hoq6a2W1kVLc"
      }
    },
    {
      "cell_type": "markdown",
      "source": [
        "2. Explain the difference between mutable and immutable data types with examples.\n",
        "- Mutable data types allow changes after creation. Example: Lists in Python.\n",
        "\n",
        "- Immutable data types cannot be changed after creation. Example: Tuples.\n",
        "  "
      ],
      "metadata": {
        "id": "GJq00-CPkl0j"
      }
    },
    {
      "cell_type": "markdown",
      "source": [
        "3. What are the main differences between lists and tuples in Python?\n",
        "\n",
        "\t1.\tMutability: Lists are mutable, whereas tuples are immutable.\n",
        "\t2.\tSyntax: Lists use square brackets [ ], while tuples use parentheses ( ).\n",
        "\t3.\tPerformance: Tuples are faster than lists due to immutability.\n",
        "\t4.\tUse Case: Lists are used when frequent modification is needed, while tuples are preferred for fixed data."
      ],
      "metadata": {
        "id": "oPiY-nUxlQKb"
      }
    },
    {
      "cell_type": "markdown",
      "source": [
        "4. Describe how dictionaries store data.\n",
        "- Dictionaries store data as key-value pairs and use a hash table internally. Keys must be unique, and their corresponding values can be any data type."
      ],
      "metadata": {
        "id": "wtqLb2V3lbH_"
      }
    },
    {
      "cell_type": "markdown",
      "source": [],
      "metadata": {
        "id": "-_wVvP53lLBN"
      }
    },
    {
      "cell_type": "markdown",
      "source": [
        "5. Why might you use a set instead of a list in Python?\n",
        "- Sets are used when:\n",
        "\t1.\tYou need to store unique elements, as sets automatically eliminate duplicates.\n",
        "\t2.\tYou want faster membership testing (checking if an element exists)."
      ],
      "metadata": {
        "id": "dVtFDZyAlkJO"
      }
    },
    {
      "cell_type": "markdown",
      "source": [
        "6. What is a string in Python, and how is it different from a list?\n",
        "- A string is a sequence of characters enclosed in quotes, while a list is a collection of elements enclosed in square brackets. Strings are immutable, whereas lists are mutable."
      ],
      "metadata": {
        "id": "AV_-jGhAlsVL"
      }
    },
    {
      "cell_type": "code",
      "source": [],
      "metadata": {
        "id": "_7J2XyGiltJj"
      },
      "execution_count": null,
      "outputs": []
    },
    {
      "cell_type": "markdown",
      "source": [
        "7. How do tuples ensure data integrity in Python?\n",
        "- Since tuples are immutable, their data cannot be altered once created, ensuring data consistency and integrity."
      ],
      "metadata": {
        "id": "EdA4jTJ6lyzw"
      }
    },
    {
      "cell_type": "code",
      "source": [],
      "metadata": {
        "id": "gKNGge-VltGc"
      },
      "execution_count": null,
      "outputs": []
    },
    {
      "cell_type": "markdown",
      "source": [
        "\n",
        "\n",
        "8. What is a hash table, and how does it relate to dictionaries in Python?\n",
        "- A hash table is a data structure that maps keys to values using a hash function. In Python, dictionaries are implemented using hash tables, allowing fast lookups.\n",
        "\n"
      ],
      "metadata": {
        "id": "oOf5iQ5Hl7Uk"
      }
    },
    {
      "cell_type": "code",
      "source": [],
      "metadata": {
        "id": "H1WsZdb7mKAY"
      },
      "execution_count": null,
      "outputs": []
    },
    {
      "cell_type": "markdown",
      "source": [
        "9. Can lists contain different data types in Python?\n",
        "- Yes, lists can contain elements of different data types, such as integers, strings, and other lists."
      ],
      "metadata": {
        "id": "9APiCn0MlszZ"
      }
    },
    {
      "cell_type": "markdown",
      "source": [
        "10. Explain why strings are immutable in Python.\n",
        "- Strings are immutable to ensure consistency and security. This property makes them hashable, allowing their use as keys in dictionaries."
      ],
      "metadata": {
        "id": "m48iVihNmO7b"
      }
    },
    {
      "cell_type": "markdown",
      "source": [
        "11. What advantages do dictionaries offer over lists for certain tasks?\n",
        "- Dictionaries provide faster lookups, insertions, and deletions because they use hash tables, making them ideal for tasks involving key-value associations."
      ],
      "metadata": {
        "id": "Co7KvFuQmO5X"
      }
    },
    {
      "cell_type": "markdown",
      "source": [
        "\n",
        "11. What advantages do dictionaries offer over lists for certain tasks?\n",
        "- Dictionaries provide faster lookups, insertions, and deletions because they use hash tables, making them ideal for tasks involving key-value associations.\n"
      ],
      "metadata": {
        "id": "QpOWBUevmSxz"
      }
    },
    {
      "cell_type": "markdown",
      "source": [
        "12. Describe a scenario where using a tuple would be preferable over a list.\n",
        "- Tuples are preferable when storing data that should not be modified, such as coordinates in geometry or constant settings."
      ],
      "metadata": {
        "id": "ULDjyl0DmO2i"
      }
    },
    {
      "cell_type": "markdown",
      "source": [
        "13. How do sets handle duplicate values in Python?\n",
        "- Sets automatically remove duplicate values and only retain unique elements."
      ],
      "metadata": {
        "id": "PWaBv0rsmOz-"
      }
    },
    {
      "cell_type": "markdown",
      "source": [
        "14. How does the “in” keyword work differently for lists and dictionaries?\n",
        "- For lists, the “in” keyword checks for the presence of an element. For dictionaries, it checks for the presence of a key."
      ],
      "metadata": {
        "id": "rHUa09jpmOww"
      }
    },
    {
      "cell_type": "markdown",
      "source": [
        "15. Can you modify the elements of a tuple? Explain why or why not.\n",
        "- No, you cannot modify the elements of a tuple because tuples are immutable."
      ],
      "metadata": {
        "id": "R5VZeZ3xmOub"
      }
    },
    {
      "cell_type": "markdown",
      "source": [
        "16. What is a nested dictionary, and give an example of its use case.\n",
        "- A nested dictionary is a dictionary within another dictionary. It is useful for representing hierarchical data."
      ],
      "metadata": {
        "id": "KiShrlt7mOrj"
      }
    },
    {
      "cell_type": "markdown",
      "source": [
        "17. Describe the time complexity of accessing elements in a dictionary.\n",
        "- The average time complexity for accessing elements in a dictionary is O(1) because it uses a hash table."
      ],
      "metadata": {
        "id": "ewjPlDqfm9Sc"
      }
    },
    {
      "cell_type": "markdown",
      "source": [
        "18. In what situations are lists preferred over dictionaries?\n",
        "- Lists are preferred when the order of elements matters or when working with a small dataset."
      ],
      "metadata": {
        "id": "rB7ouCpemOoe"
      }
    },
    {
      "cell_type": "markdown",
      "source": [
        "19. Why are dictionaries considered unordered, and how does that affect data retrieval?\n",
        "- Dictionaries are considered unordered because they store elements using a hash table, which does not maintain the order of keys. Retrieval is based on keys rather than positional indexing.\n",
        "\n"
      ],
      "metadata": {
        "id": "3ZDRktAimOiN"
      }
    },
    {
      "cell_type": "markdown",
      "source": [
        "20. Explain the difference between a list and a dictionary in terms of data retrieval.\n",
        "- Lists retrieve elements by their index, while dictionaries retrieve elements by their key."
      ],
      "metadata": {
        "id": "GZD3pLGQmOYi"
      }
    },
    {
      "cell_type": "code",
      "source": [
        "#Assingment practical quns\n",
        "# 1. Write a code to create a string with your name and print it.\n",
        "\n",
        "name = \"Kartik\"\n",
        "print(name)"
      ],
      "metadata": {
        "colab": {
          "base_uri": "https://localhost:8080/"
        },
        "id": "tQbOcw0JnsdQ",
        "outputId": "cc4d8fb6-379f-4ced-a857-e115a9c111d0"
      },
      "execution_count": 2,
      "outputs": [
        {
          "output_type": "stream",
          "name": "stdout",
          "text": [
            "Kartik\n"
          ]
        }
      ]
    },
    {
      "cell_type": "code",
      "source": [
        "# 2. Write a code to find the length of the string “Hello World”.\n",
        "\n",
        "string = \"Hello World\"\n",
        "print(len(string))"
      ],
      "metadata": {
        "id": "4cpfhRQYoG7L"
      },
      "execution_count": null,
      "outputs": []
    },
    {
      "cell_type": "code",
      "source": [
        "# 3. Write a code to slice the first 3 characters from the string “Python Programming”.\n",
        "string = \"Python Programming\"\n",
        "print(string[:3])"
      ],
      "metadata": {
        "id": "T_oYYrTAocFu"
      },
      "execution_count": null,
      "outputs": []
    },
    {
      "cell_type": "code",
      "source": [
        "# 4. Write a code to convert the string “hello” to uppercase.\n",
        "string = \"hello\"\n",
        "print(string.upper())\n"
      ],
      "metadata": {
        "id": "bPqxstILol_q"
      },
      "execution_count": null,
      "outputs": []
    },
    {
      "cell_type": "code",
      "source": [
        "# 5. Write a code to replace the word “apple” with “orange” in the string “I like apple”.\n",
        "string = \"I like apple\"\n",
        "print(string.replace(\"apple\", \"orange\"))"
      ],
      "metadata": {
        "id": "caaz0Vtxol9W"
      },
      "execution_count": null,
      "outputs": []
    },
    {
      "cell_type": "code",
      "source": [
        "# 6. Write a code to create a list with numbers 1 to 5 and print it.\n",
        "my_list = [1, 2, 3, 4, 5]\n",
        "print(my_list)"
      ],
      "metadata": {
        "id": "vhiMMu8uol45"
      },
      "execution_count": null,
      "outputs": []
    },
    {
      "cell_type": "code",
      "source": [
        "# 7. Write a code to append the number 10 to the list [1, 2, 3, 4].\n",
        "my_list = [1, 2, 3, 4, 5]\n",
        "my_list.remove(3)\n",
        "print(my_list)"
      ],
      "metadata": {
        "id": "SnU0iu-eol2C"
      },
      "execution_count": null,
      "outputs": []
    },
    {
      "cell_type": "code",
      "source": [
        "# 8. Write a code to remove the number 3 from the list [1, 2, 3, 4, 5].\n",
        "my_list = [1, 2, 3, 4, 5]\n",
        "my_list.remove(3)\n",
        "print(my_list)"
      ],
      "metadata": {
        "id": "f1pNI_tUolxo"
      },
      "execution_count": null,
      "outputs": []
    },
    {
      "cell_type": "code",
      "source": [
        "# 9. Write a code to access the second element in the list [‘a’, ‘b’, ‘c’, ‘d’].\n",
        "my_list = ['a', 'b', 'c', 'd']\n",
        "print(my_list[1])"
      ],
      "metadata": {
        "id": "5w7FjVLwpMzv"
      },
      "execution_count": null,
      "outputs": []
    },
    {
      "cell_type": "code",
      "source": [
        "# 10. Write a code to reverse the list [10, 20, 30, 40, 50].\n",
        "my_list = [10, 20, 30, 40, 50]\n",
        "my_list.reverse()\n",
        "print(my_list)"
      ],
      "metadata": {
        "id": "DvZtYG3NpMxI"
      },
      "execution_count": null,
      "outputs": []
    },
    {
      "cell_type": "code",
      "source": [
        "# 11. Write a code to create a tuple with the elements 10, 20, 30 and print it.\n",
        "my_tuple = (10, 20, 30)\n",
        "print(my_tuple)"
      ],
      "metadata": {
        "id": "a4WB3zfspMuR"
      },
      "execution_count": null,
      "outputs": []
    },
    {
      "cell_type": "code",
      "source": [
        "# 12. Write a code to access the first element of the tuple (‘apple’, ‘banana’, ‘cherry’).\n",
        "my_tuple = ('apple', 'banana', 'cherry')\n",
        "print(my_tuple[0])"
      ],
      "metadata": {
        "id": "FMMrRitFpMrZ"
      },
      "execution_count": null,
      "outputs": []
    },
    {
      "cell_type": "code",
      "source": [
        "# 13. Write a code to count how many times the number 2 appears in the tuple (1, 2, 3, 2, 4, 2).\n",
        "my_tuple = (1, 2, 3, 2, 4, 2)\n",
        "print(my_tuple.count(2))"
      ],
      "metadata": {
        "id": "ip1HjPOkpMoz"
      },
      "execution_count": null,
      "outputs": []
    },
    {
      "cell_type": "code",
      "source": [
        "# 14. Write a code to find the index of the element “cat” in the tuple (‘dog’, ‘cat’, ‘rabbit’).\n",
        "my_tuple = ('dog', 'cat', 'rabbit')\n",
        "print(my_tuple.index('cat'))"
      ],
      "metadata": {
        "id": "zORVvYorpMlc"
      },
      "execution_count": null,
      "outputs": []
    },
    {
      "cell_type": "code",
      "source": [
        "# 15. Write a code to check if the element “banana” is in the tuple (‘apple’, ‘orange’, ‘banana’).\n",
        "my_tuple = ('apple', 'orange', 'banana')\n",
        "print('banana' in my_tuple)"
      ],
      "metadata": {
        "id": "pRkYGSCXpMVE"
      },
      "execution_count": null,
      "outputs": []
    },
    {
      "cell_type": "code",
      "source": [
        "# 16. Write a code to create a set with the elements 1, 2, 3, 4, 5 and print it.\n",
        "my_set = {1, 2, 3, 4, 5}\n",
        "print(my_set)"
      ],
      "metadata": {
        "id": "fPPPLG9Colmc"
      },
      "execution_count": null,
      "outputs": []
    },
    {
      "cell_type": "code",
      "source": [
        "# 17. Write a code to add the element 6 to the set {1, 2, 3, 4}.\n",
        "my_set = {1, 2, 3, 4}\n",
        "my_set.add(6)\n",
        "print(my_set)"
      ],
      "metadata": {
        "id": "mOnEWcQgqERu"
      },
      "execution_count": null,
      "outputs": []
    },
    {
      "cell_type": "code",
      "source": [
        "# 18. Write a code to create a tuple with the elements 10, 20, 30 and print it.\n",
        "my_tuple = (10, 20, 30)\n",
        "print(my_tuple)"
      ],
      "metadata": {
        "id": "qKO4lgkiqEPF"
      },
      "execution_count": null,
      "outputs": []
    },
    {
      "cell_type": "code",
      "source": [
        "# 19. Write a code to access the first element of the tuple (‘apple’, ‘banana’, ‘cherry’).\n",
        "my_tuple = ('apple', 'banana', 'cherry')\n",
        "print(my_tuple[0])"
      ],
      "metadata": {
        "id": "4NR829vCqELd"
      },
      "execution_count": null,
      "outputs": []
    },
    {
      "cell_type": "code",
      "source": [
        "# 20. Write a code to count how many times the number 2 appears in the tuple (1, 2, 3, 2, 4, 2).\n",
        "my_tuple = (1, 2, 3, 2, 4, 2)\n",
        "print(my_tuple.count(2))"
      ],
      "metadata": {
        "id": "y4fsUeevqEFA"
      },
      "execution_count": null,
      "outputs": []
    },
    {
      "cell_type": "code",
      "source": [
        "# 21. Write a code to find the index of the element “cat” in the tuple (‘dog’, ‘cat’, ‘rabbit’).\n",
        "my_tuple = ('dog', 'cat', 'rabbit')\n",
        "print(my_tuple.index('cat'))"
      ],
      "metadata": {
        "id": "oNE1kDbOqD_e"
      },
      "execution_count": null,
      "outputs": []
    },
    {
      "cell_type": "code",
      "source": [
        "# 22. Write a code to check if the element “banana” is in the tupvle (‘apple’, ‘orange’, ‘banana’).\n",
        "my_tuple = ('apple', 'orange', 'banana')\n",
        "print('banana' in my_tuple)"
      ],
      "metadata": {
        "id": "o2ptyV66qlPI"
      },
      "execution_count": null,
      "outputs": []
    },
    {
      "cell_type": "code",
      "source": [
        "# 23. Write a code to create a set with the elements 1, 2, 3, 4, 5 and print it.\n",
        "my_set = {1, 2, 3, 4, 5}\n",
        "print(my_set)"
      ],
      "metadata": {
        "id": "JkNe9dz9qlHi"
      },
      "execution_count": null,
      "outputs": []
    },
    {
      "cell_type": "code",
      "source": [
        "#24. Write a code to add the element 6 to the set {1, 2, 3, 4}.\n",
        "my_set = {1, 2, 3, 4}\n",
        "my_set.add(6)\n",
        "print(my_set)"
      ],
      "metadata": {
        "id": "JRN_qc3CqwIO"
      },
      "execution_count": null,
      "outputs": []
    },
    {
      "cell_type": "markdown",
      "source": [],
      "metadata": {
        "id": "vkgwXcEHqktK"
      }
    },
    {
      "cell_type": "markdown",
      "source": [],
      "metadata": {
        "id": "zUHIn193qknx"
      }
    }
  ]
}